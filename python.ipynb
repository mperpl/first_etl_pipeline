{
 "cells": [
  {
   "cell_type": "code",
   "execution_count": 1,
   "id": "b2208259",
   "metadata": {},
   "outputs": [],
   "source": [
    "import pandas as pd\n",
    "from google.cloud import bigquery\n",
    "import matplotlib.pyplot as plt"
   ]
  },
  {
   "cell_type": "code",
   "execution_count": 2,
   "id": "023dd923",
   "metadata": {},
   "outputs": [],
   "source": [
    "london_weather_data = pd.read_csv(\"london_weather.csv\")\n",
    "london_weather_data['date'] = pd.to_datetime(london_weather_data['date'], unit='m')"
   ]
  },
  {
   "cell_type": "code",
   "execution_count": 3,
   "id": "f57bcd07",
   "metadata": {},
   "outputs": [
    {
     "data": {
      "text/html": [
       "<div>\n",
       "<style scoped>\n",
       "    .dataframe tbody tr th:only-of-type {\n",
       "        vertical-align: middle;\n",
       "    }\n",
       "\n",
       "    .dataframe tbody tr th {\n",
       "        vertical-align: top;\n",
       "    }\n",
       "\n",
       "    .dataframe thead th {\n",
       "        text-align: right;\n",
       "    }\n",
       "</style>\n",
       "<table border=\"1\" class=\"dataframe\">\n",
       "  <thead>\n",
       "    <tr style=\"text-align: right;\">\n",
       "      <th></th>\n",
       "      <th>date</th>\n",
       "      <th>cloud_cover</th>\n",
       "      <th>sunshine</th>\n",
       "      <th>global_radiation</th>\n",
       "      <th>max_temp</th>\n",
       "      <th>mean_temp</th>\n",
       "      <th>min_temp</th>\n",
       "      <th>precipitation</th>\n",
       "      <th>pressure</th>\n",
       "      <th>snow_depth</th>\n",
       "      <th>year</th>\n",
       "      <th>month</th>\n",
       "    </tr>\n",
       "  </thead>\n",
       "  <tbody>\n",
       "    <tr>\n",
       "      <th>0</th>\n",
       "      <td>2007-08-18 03:01:00</td>\n",
       "      <td>2.0</td>\n",
       "      <td>7.0</td>\n",
       "      <td>52.0</td>\n",
       "      <td>2.3</td>\n",
       "      <td>-4.1</td>\n",
       "      <td>-7.5</td>\n",
       "      <td>0.4</td>\n",
       "      <td>101900.0</td>\n",
       "      <td>9.0</td>\n",
       "      <td>2007</td>\n",
       "      <td>8</td>\n",
       "    </tr>\n",
       "    <tr>\n",
       "      <th>1</th>\n",
       "      <td>2007-08-18 03:02:00</td>\n",
       "      <td>6.0</td>\n",
       "      <td>1.7</td>\n",
       "      <td>27.0</td>\n",
       "      <td>1.6</td>\n",
       "      <td>-2.6</td>\n",
       "      <td>-7.5</td>\n",
       "      <td>0.0</td>\n",
       "      <td>102530.0</td>\n",
       "      <td>8.0</td>\n",
       "      <td>2007</td>\n",
       "      <td>8</td>\n",
       "    </tr>\n",
       "    <tr>\n",
       "      <th>2</th>\n",
       "      <td>2007-08-18 03:03:00</td>\n",
       "      <td>5.0</td>\n",
       "      <td>0.0</td>\n",
       "      <td>13.0</td>\n",
       "      <td>1.3</td>\n",
       "      <td>-2.8</td>\n",
       "      <td>-7.2</td>\n",
       "      <td>0.0</td>\n",
       "      <td>102050.0</td>\n",
       "      <td>4.0</td>\n",
       "      <td>2007</td>\n",
       "      <td>8</td>\n",
       "    </tr>\n",
       "    <tr>\n",
       "      <th>3</th>\n",
       "      <td>2007-08-18 03:04:00</td>\n",
       "      <td>8.0</td>\n",
       "      <td>0.0</td>\n",
       "      <td>13.0</td>\n",
       "      <td>-0.3</td>\n",
       "      <td>-2.6</td>\n",
       "      <td>-6.5</td>\n",
       "      <td>0.0</td>\n",
       "      <td>100840.0</td>\n",
       "      <td>2.0</td>\n",
       "      <td>2007</td>\n",
       "      <td>8</td>\n",
       "    </tr>\n",
       "    <tr>\n",
       "      <th>4</th>\n",
       "      <td>2007-08-18 03:05:00</td>\n",
       "      <td>6.0</td>\n",
       "      <td>2.0</td>\n",
       "      <td>29.0</td>\n",
       "      <td>5.6</td>\n",
       "      <td>-0.8</td>\n",
       "      <td>-1.4</td>\n",
       "      <td>0.0</td>\n",
       "      <td>102250.0</td>\n",
       "      <td>1.0</td>\n",
       "      <td>2007</td>\n",
       "      <td>8</td>\n",
       "    </tr>\n",
       "  </tbody>\n",
       "</table>\n",
       "</div>"
      ],
      "text/plain": [
       "                 date  cloud_cover  sunshine  global_radiation  max_temp  \\\n",
       "0 2007-08-18 03:01:00          2.0       7.0              52.0       2.3   \n",
       "1 2007-08-18 03:02:00          6.0       1.7              27.0       1.6   \n",
       "2 2007-08-18 03:03:00          5.0       0.0              13.0       1.3   \n",
       "3 2007-08-18 03:04:00          8.0       0.0              13.0      -0.3   \n",
       "4 2007-08-18 03:05:00          6.0       2.0              29.0       5.6   \n",
       "\n",
       "   mean_temp  min_temp  precipitation  pressure  snow_depth  year  month  \n",
       "0       -4.1      -7.5            0.4  101900.0         9.0  2007      8  \n",
       "1       -2.6      -7.5            0.0  102530.0         8.0  2007      8  \n",
       "2       -2.8      -7.2            0.0  102050.0         4.0  2007      8  \n",
       "3       -2.6      -6.5            0.0  100840.0         2.0  2007      8  \n",
       "4       -0.8      -1.4            0.0  102250.0         1.0  2007      8  "
      ]
     },
     "execution_count": 3,
     "metadata": {},
     "output_type": "execute_result"
    }
   ],
   "source": [
    "london_weather_data = london_weather_data.dropna(subset=['date', 'mean_temp'], how='all')\n",
    "london_weather_data['year'] = london_weather_data['date'].dt.year\n",
    "london_weather_data['month'] = london_weather_data['date'].dt.month\n",
    "london_weather_data.head()"
   ]
  },
  {
   "cell_type": "code",
   "execution_count": 4,
   "id": "3d8c5584",
   "metadata": {},
   "outputs": [
    {
     "data": {
      "text/html": [
       "<div>\n",
       "<style scoped>\n",
       "    .dataframe tbody tr th:only-of-type {\n",
       "        vertical-align: middle;\n",
       "    }\n",
       "\n",
       "    .dataframe tbody tr th {\n",
       "        vertical-align: top;\n",
       "    }\n",
       "\n",
       "    .dataframe thead th {\n",
       "        text-align: right;\n",
       "    }\n",
       "</style>\n",
       "<table border=\"1\" class=\"dataframe\">\n",
       "  <thead>\n",
       "    <tr style=\"text-align: right;\">\n",
       "      <th></th>\n",
       "      <th>year</th>\n",
       "      <th>month</th>\n",
       "      <th>mean_temp</th>\n",
       "    </tr>\n",
       "  </thead>\n",
       "  <tbody>\n",
       "    <tr>\n",
       "      <th>0</th>\n",
       "      <td>2007</td>\n",
       "      <td>8</td>\n",
       "      <td>10.178796</td>\n",
       "    </tr>\n",
       "    <tr>\n",
       "      <th>1</th>\n",
       "      <td>2007</td>\n",
       "      <td>9</td>\n",
       "      <td>10.719003</td>\n",
       "    </tr>\n",
       "    <tr>\n",
       "      <th>2</th>\n",
       "      <td>2007</td>\n",
       "      <td>10</td>\n",
       "      <td>10.814031</td>\n",
       "    </tr>\n",
       "    <tr>\n",
       "      <th>3</th>\n",
       "      <td>2007</td>\n",
       "      <td>11</td>\n",
       "      <td>11.393610</td>\n",
       "    </tr>\n",
       "    <tr>\n",
       "      <th>4</th>\n",
       "      <td>2007</td>\n",
       "      <td>12</td>\n",
       "      <td>11.451098</td>\n",
       "    </tr>\n",
       "    <tr>\n",
       "      <th>5</th>\n",
       "      <td>2008</td>\n",
       "      <td>1</td>\n",
       "      <td>11.433656</td>\n",
       "    </tr>\n",
       "    <tr>\n",
       "      <th>6</th>\n",
       "      <td>2008</td>\n",
       "      <td>2</td>\n",
       "      <td>12.320896</td>\n",
       "    </tr>\n",
       "    <tr>\n",
       "      <th>7</th>\n",
       "      <td>2008</td>\n",
       "      <td>3</td>\n",
       "      <td>11.521241</td>\n",
       "    </tr>\n",
       "    <tr>\n",
       "      <th>8</th>\n",
       "      <td>2008</td>\n",
       "      <td>4</td>\n",
       "      <td>11.822450</td>\n",
       "    </tr>\n",
       "    <tr>\n",
       "      <th>9</th>\n",
       "      <td>2008</td>\n",
       "      <td>5</td>\n",
       "      <td>12.309505</td>\n",
       "    </tr>\n",
       "  </tbody>\n",
       "</table>\n",
       "</div>"
      ],
      "text/plain": [
       "   year  month  mean_temp\n",
       "0  2007      8  10.178796\n",
       "1  2007      9  10.719003\n",
       "2  2007     10  10.814031\n",
       "3  2007     11  11.393610\n",
       "4  2007     12  11.451098\n",
       "5  2008      1  11.433656\n",
       "6  2008      2  12.320896\n",
       "7  2008      3  11.521241\n",
       "8  2008      4  11.822450\n",
       "9  2008      5  12.309505"
      ]
     },
     "execution_count": 4,
     "metadata": {},
     "output_type": "execute_result"
    }
   ],
   "source": [
    "averaged_london_temp_data = london_weather_data.groupby(['year', 'month'])['mean_temp'].mean().reset_index()\n",
    "averaged_london_temp_data"
   ]
  },
  {
   "cell_type": "code",
   "execution_count": 5,
   "id": "8526c299",
   "metadata": {},
   "outputs": [
    {
     "data": {
      "text/plain": [
       "array([2007, 2008], dtype=int32)"
      ]
     },
     "execution_count": 5,
     "metadata": {},
     "output_type": "execute_result"
    }
   ],
   "source": [
    "unique_years = averaged_london_temp_data['year'].unique()\n",
    "unique_years"
   ]
  },
  {
   "cell_type": "code",
   "execution_count": 6,
   "id": "0b95d2c0",
   "metadata": {},
   "outputs": [
    {
     "data": {
      "text/plain": [
       "[<matplotlib.axis.XTick at 0x1f5d7e88c20>,\n",
       " <matplotlib.axis.XTick at 0x1f5d7ea2990>,\n",
       " <matplotlib.axis.XTick at 0x1f5d7ea3110>,\n",
       " <matplotlib.axis.XTick at 0x1f5d7ea3890>,\n",
       " <matplotlib.axis.XTick at 0x1f5d7ee0050>,\n",
       " <matplotlib.axis.XTick at 0x1f5d7ee07d0>,\n",
       " <matplotlib.axis.XTick at 0x1f5d7ee0f50>,\n",
       " <matplotlib.axis.XTick at 0x1f5d7ee16d0>,\n",
       " <matplotlib.axis.XTick at 0x1f5d7ee1e50>,\n",
       " <matplotlib.axis.XTick at 0x1f5d7ee25d0>,\n",
       " <matplotlib.axis.XTick at 0x1f5d7ee2d50>,\n",
       " <matplotlib.axis.XTick at 0x1f5d7ee34d0>]"
      ]
     },
     "execution_count": 6,
     "metadata": {},
     "output_type": "execute_result"
    },
    {
     "data": {
      "image/png": "[encoded data removed]",
      "text/plain": [
       "<Figure size 800x400 with 1 Axes>"
      ]
     },
     "metadata": {},
     "output_type": "display_data"
    }
   ],
   "source": [
    "fig, ax = plt.subplots(figsize=(8, 4))\n",
    "\n",
    "for year in unique_years:\n",
    "    df_year = averaged_london_temp_data[averaged_london_temp_data['year'] == year]\n",
    "    \n",
    "    ax.plot(df_year['month'], df_year['mean_temp'], marker='o', label=str(year))\n",
    "\n",
    "ax.set_title('Średnia miesięczna temperatura w Londynie od sierpnia 2007 do maja 2008', fontsize=16)\n",
    "ax.set_xlabel('Miesiąc', fontsize=12)\n",
    "ax.set_ylabel('Średnia temperatura (°C)', fontsize=12)\n",
    "ax.legend(title='Rok')\n",
    "ax.grid(True)\n",
    "ax.set_xticks(range(1, 13))"
   ]
  },
  {
   "cell_type": "code",
   "execution_count": 7,
   "id": "af6024d9",
   "metadata": {},
   "outputs": [
    {
     "name": "stderr",
     "output_type": "stream",
     "text": [
      "c:\\Users\\mper\\AppData\\Local\\Programs\\Python\\Python313\\Lib\\site-packages\\google\\auth\\_default.py:76: UserWarning: Your application has authenticated using end user credentials from Google Cloud SDK without a quota project. You might receive a \"quota exceeded\" or \"API not enabled\" error. See the following page for troubleshooting: https://cloud.google.com/docs/authentication/adc-troubleshooting/user-creds. \n",
      "  warnings.warn(_CLOUD_SDK_CREDENTIALS_WARNING)\n",
      "c:\\Users\\mper\\AppData\\Local\\Programs\\Python\\Python313\\Lib\\site-packages\\google\\cloud\\bigquery\\_pandas_helpers.py:484: FutureWarning: Loading pandas DataFrame into BigQuery will require pandas-gbq package version 0.26.1 or greater in the future. Tried to import pandas-gbq and got: No module named 'pandas_gbq'\n",
      "  warnings.warn(\n"
     ]
    },
    {
     "name": "stdout",
     "output_type": "stream",
     "text": [
      "Success while trying to load data to BigQuery\n",
      "Merge successful. Table updated.\n"
     ]
    }
   ],
   "source": [
    "PROJECT_ID = \"thinking-park-468115-u1\"\n",
    "DATASET_ID = \"first_etl_project\"\n",
    "TABLE_ID = \"first_etl_project\"\n",
    "TEMP_TABLE_ID = \"weahter_data_temp\"\n",
    "\n",
    "client = bigquery.Client(project=PROJECT_ID)\n",
    "\n",
    "full_table_id = f\"{PROJECT_ID}.{DATASET_ID}.{TABLE_ID}\"\n",
    "full_temp_table_id = f\"{PROJECT_ID}.{DATASET_ID}.{TEMP_TABLE_ID}\"\n",
    "\n",
    "job_config = bigquery.LoadJobConfig(\n",
    "    schema=[\n",
    "        bigquery.SchemaField(\"year\", \"INT64\", mode=\"REQUIRED\"),\n",
    "        bigquery.SchemaField(\"month\", \"INT64\", mode=\"REQUIRED\"),\n",
    "        bigquery.SchemaField(\"mean_temp\", \"FLOAT\", mode=\"REQUIRED\"),\n",
    "    ],\n",
    "    write_disposition=bigquery.WriteDisposition.WRITE_TRUNCATE,\n",
    ")\n",
    "\n",
    "try:\n",
    "    job = client.load_table_from_dataframe(\n",
    "        averaged_london_temp_data, full_temp_table_id, job_config=job_config\n",
    "    )\n",
    "    job.result()\n",
    "    print(\"Success while trying to load data to BigQuery\")\n",
    "except Exception as e:\n",
    "    print(f\"Error while trying to load data to BigQuery: {e}\")\n",
    "    exit()\n",
    "\n",
    "merge_query = f\"\"\"\n",
    "MERGE INTO `{full_table_id}` AS T\n",
    "USING `{full_temp_table_id}` AS S\n",
    "ON T.year = S.year AND T.month = S.month\n",
    "WHEN MATCHED THEN\n",
    "    UPDATE SET\n",
    "        T.mean_temp = S.mean_temp\n",
    "WHEN NOT MATCHED THEN\n",
    "    INSERT (year, month, mean_temp) VALUES (S.year, S.month, S.mean_temp)\n",
    "\"\"\"\n",
    "\n",
    "try:\n",
    "    query_job = client.query(merge_query)\n",
    "    query_job.result()\n",
    "    print(\"Merge successful. Table updated.\")\n",
    "except Exception as e:\n",
    "    print(f\"Error while attempting to merge: {e}\")"
   ]
  }
 ],
 "metadata": {
  "kernelspec": {
   "display_name": "Python 3",
   "language": "python",
   "name": "python3"
  },
  "language_info": {
   "codemirror_mode": {
    "name": "ipython",
    "version": 3
   },
   "file_extension": ".py",
   "mimetype": "text/x-python",
   "name": "python",
   "nbconvert_exporter": "python",
   "pygments_lexer": "ipython3",
   "version": "3.13.3"
  }
 },
 "nbformat": 4,
 "nbformat_minor": 5
}
